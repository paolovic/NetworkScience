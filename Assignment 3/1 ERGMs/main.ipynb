{
 "cells": [
  {
   "cell_type": "code",
   "execution_count": 1,
   "metadata": {},
   "outputs": [],
   "source": [
    "import networkx as nx\n",
    "import matplotlib.pyplot as plt\n",
    "from os import listdir\n",
    "from os.path import isfile, join\n",
    "import NEMtropy as nem\n",
    "import numpy as np"
   ]
  },
  {
   "cell_type": "code",
   "execution_count": 2,
   "metadata": {},
   "outputs": [],
   "source": [
    "# Load the datasets from the assignment_1_data folder\n",
    "path = \"World_Trade_Web/\"\n",
    "files = [f for f in listdir(path) if isfile(join(path, f))]\n",
    "gmls = [nx.read_graphml(path + f) for f in files]\n",
    "\n",
    "graphs = {k: v for k, v in zip(files, gmls)}"
   ]
  },
  {
   "cell_type": "code",
   "execution_count": 3,
   "metadata": {},
   "outputs": [],
   "source": [
    "# Test graph from the paper\n",
    "# Do not execute for the assignment\n",
    "\n",
    "# G=nx.DiGraph()\n",
    "# G.add_nodes_from([\"A\",\"B\",\"C\",\"D\",\"E\",\"F\",\"G\",\"H\"])\n",
    "# G.add_edges_from([(\"A\",\"B\", {\"weight\": 10}),(\"A\",\"E\", {\"weight\":3}), (\"C\", \"A\", {\"weight\":1}), (\"D\", \"A\",{\"weight\":2}), (\"B\", \"G\",{\"weight\":5}), (\"B\", \"F\",{\"weight\":4}), (\"H\", \"B\",{\"weight\":6})])\n",
    "# graphs={}\n",
    "# graphs[\"test\"] = G"
   ]
  },
  {
   "cell_type": "code",
   "execution_count": 4,
   "metadata": {},
   "outputs": [],
   "source": [
    "def calc_strengths(G):\n",
    "    in_ = {}\n",
    "    out = {}\n",
    "    for source, target, weight in G.edges(data=\"weight\"):\n",
    "        if source not in out:\n",
    "            out[source] = 0\n",
    "        if source not in in_:\n",
    "            in_[source] = 0\n",
    "        if target not in out:\n",
    "            out[target] = 0\n",
    "        if target not in in_:\n",
    "            in_[target] = 0\n",
    "        if weight is not None:\n",
    "            out[source] += weight\n",
    "            in_[target] += weight\n",
    "    return {\"in\": in_, \"out\": out}\n",
    "\n",
    "strengths = {}\n",
    "\n",
    "for k, G in graphs.items():\n",
    "    in_ = {}\n",
    "    out = {}\n",
    "    for source, target, weight in G.edges(data=\"weight\"):\n",
    "        if source not in out:\n",
    "            out[source] = 0\n",
    "        if source not in in_:\n",
    "            in_[source] = 0\n",
    "        if target not in out:\n",
    "            out[target] = 0\n",
    "        if target not in in_:\n",
    "            in_[target] = 0\n",
    "        if weight is not None:\n",
    "            out[source] += weight\n",
    "            in_[target] += weight\n",
    "    strengths[k] = {\"in\": in_, \"out\": out}"
   ]
  },
  {
   "cell_type": "code",
   "execution_count": 5,
   "metadata": {},
   "outputs": [],
   "source": [
    "W = {}\n",
    "s_bar_sou_out = {}\n",
    "s_bar_sou_in = {}\n",
    "s_bar_tar_in = {}\n",
    "s_bar_tar_out = {}\n",
    "sigma_sou_out = {}\n",
    "sigma_sou_in = {}\n",
    "sigma_tar_in = {}\n",
    "sigma_tar_out = {}\n",
    "\n",
    "for k, strength in strengths.items():\n",
    "    W[k] = sum(strength[\"out\"].values())\n",
    "    s_bar_sou_out[k] = 0\n",
    "    s_bar_sou_in[k] = 0\n",
    "    s_bar_tar_in[k] = 0\n",
    "    s_bar_tar_out[k] = 0\n",
    "    for node in strength[\"out\"]:\n",
    "        s_bar_sou_out[k] += strength[\"out\"][node]*strength[\"out\"][node]\n",
    "        s_bar_sou_in[k] += strength[\"out\"][node]*strength[\"in\"][node]\n",
    "        s_bar_tar_out[k] += strength[\"in\"][node]*strength[\"out\"][node]\n",
    "        s_bar_tar_in[k] += strength[\"in\"][node]*strength[\"in\"][node]\n",
    "    s_bar_sou_out[k] /= W[k]\n",
    "    s_bar_sou_in[k] /= W[k]\n",
    "    s_bar_tar_in[k] /= W[k]\n",
    "    s_bar_tar_out[k] /= W[k]\n",
    "    sigma_sou_out[k] = 0\n",
    "    sigma_sou_in[k] = 0\n",
    "    sigma_tar_in[k] = 0\n",
    "    sigma_tar_out[k] = 0\n",
    "    for node in strength[\"out\"]:\n",
    "        sigma_sou_out[k] += strength[\"out\"][node]*(strength[\"out\"][node] - s_bar_sou_out[k])**2\n",
    "        sigma_sou_in[k] += strength[\"out\"][node]*(strength[\"in\"][node] - s_bar_sou_in[k])**2\n",
    "        sigma_tar_in[k] += strength[\"in\"][node]*(strength[\"in\"][node] - s_bar_tar_in[k])**2\n",
    "        sigma_tar_out[k] += strength[\"in\"][node]*(strength[\"out\"][node] - s_bar_tar_out[k])**2\n",
    "    sigma_sou_out[k] = np.sqrt(sigma_sou_out[k]/W[k])\n",
    "    sigma_sou_in[k] = np.sqrt(sigma_sou_in[k]/W[k])\n",
    "    sigma_tar_in[k] = np.sqrt(sigma_tar_in[k]/W[k])\n",
    "    sigma_tar_out[k] = np.sqrt(sigma_tar_out[k]/W[k])"
   ]
  },
  {
   "cell_type": "code",
   "execution_count": 6,
   "metadata": {},
   "outputs": [
    {
     "name": "stdout",
     "output_type": "stream",
     "text": [
      "WDN_1992.txt.graphml | rho out-in: -0.2664117215330637| rho out-out: -0.26076773855213525| rho in-in: -0.23043052971239772| rho in-out: -0.2178041687531879\n",
      "WDN_1993.txt.graphml | rho out-in: -0.2332948861604653| rho out-out: -0.21690124032555627| rho in-in: -0.23436902905204038| rho in-out: -0.2021385793483107\n",
      "WDN_1994.txt.graphml | rho out-in: -0.2280788632262324| rho out-out: -0.22662914473192905| rho in-in: -0.22585786853596368| rho in-out: -0.22015233241342597\n",
      "WDN_1995.txt.graphml | rho out-in: -0.21154591029146982| rho out-out: -0.20812357271965518| rho in-in: -0.21449016601768575| rho in-out: -0.2074765749509863\n",
      "WDN_1996.txt.graphml | rho out-in: -0.19698652263843464| rho out-out: -0.19471663098921604| rho in-in: -0.2022276276627051| rho in-out: -0.19651218763930592\n",
      "WDN_1997.txt.graphml | rho out-in: -0.1918257224497967| rho out-out: -0.19315231407495667| rho in-in: -0.1932977484020739| rho in-out: -0.19017801772442888\n",
      "WDN_1998.txt.graphml | rho out-in: -0.20399322491207095| rho out-out: -0.20607964658938413| rho in-in: -0.20292373888954585| rho in-out: -0.20184081481460878\n",
      "WDN_1999.txt.graphml | rho out-in: -0.18457920354872986| rho out-out: -0.1917491233533954| rho in-in: -0.18296706584708883| rho in-out: -0.1872882796206816\n",
      "WDN_2000.txt.graphml | rho out-in: -0.17226124659453657| rho out-out: -0.18562086388123963| rho in-in: -0.17040687852953407| rho in-out: -0.1801850188546767\n",
      "WDN_2001.txt.graphml | rho out-in: -0.16632521583819818| rho out-out: -0.18174864122043805| rho in-in: -0.16058888802860838| rho in-out: -0.17259877022020148\n",
      "WDN_2002.txt.graphml | rho out-in: -0.16162042219644934| rho out-out: -0.17726025110536478| rho in-in: -0.15774335828856165| rho in-out: -0.16814788587673626\n"
     ]
    }
   ],
   "source": [
    "rho_out_in = {}\n",
    "rho_out_out = {}\n",
    "rho_in_in = {}\n",
    "rho_in_out = {}\n",
    "\n",
    "for k, G in graphs.items():\n",
    "    rho_out_in[k] = 0\n",
    "    rho_out_out[k] = 0\n",
    "    rho_in_in[k] = 0\n",
    "    rho_in_out[k] = 0\n",
    "    for source, target, weight in G.edges(data=\"weight\"):\n",
    "        if weight is not None:\n",
    "            rho_out_in[k] += weight*(strengths[k][\"out\"][source] - s_bar_sou_out[k])*(strengths[k][\"in\"][target] - s_bar_tar_in[k])\n",
    "            rho_out_out[k] += weight*(strengths[k][\"out\"][source] - s_bar_sou_out[k])*(strengths[k][\"out\"][target] - s_bar_tar_out[k])\n",
    "            rho_in_in[k] += weight*(strengths[k][\"in\"][source] - s_bar_sou_in[k])*(strengths[k][\"in\"][target] - s_bar_tar_in[k])\n",
    "            rho_in_out[k] += weight*(strengths[k][\"in\"][source] - s_bar_sou_in[k])*(strengths[k][\"out\"][target] - s_bar_tar_out[k])\n",
    "    rho_out_in[k] /= W[k]*sigma_sou_out[k]*sigma_tar_in[k]\n",
    "    rho_out_out[k] /= W[k]*sigma_sou_out[k]*sigma_tar_out[k]\n",
    "    rho_in_in[k] /= W[k]*sigma_sou_in[k]*sigma_tar_in[k]\n",
    "    rho_in_out[k] /= W[k]*sigma_sou_in[k]*sigma_tar_out[k]\n",
    "\n",
    "    print(k + \" | \" + \"rho out-in: \" + str(rho_out_in[k]) + \"| rho out-out: \" + str(rho_out_out[k]) + \"| rho in-in: \" + str(rho_in_in[k]) + \"| rho in-out: \" + str(rho_in_out[k]))\n"
   ]
  },
  {
   "cell_type": "code",
   "execution_count": 22,
   "metadata": {},
   "outputs": [],
   "source": [
    "# As an example we generate the adjacency matrix of a weighted undirected graph using the matrix_generator module of NEMtropy\n",
    "adj_weigh = nem.matrix_generator.random_weighted_matrix_generator_uniform_custom_density(n=100,\n",
    "                                                                                     p=0.4,\n",
    "                                                                                     sym=True,\n",
    "                                                                                     sup_ext=30,\n",
    "                                                                                     intweights=True)\n",
    "\n",
    "# Lets store the binary structure and strength sequence\n",
    "degree_seq = adj_weigh.astype(bool).astype(float).sum(axis=1)\n",
    "strength_seq = adj_weigh.sum(axis=1)\n",
    "\n",
    "# Now we suppose that the weighted structure is not available\n",
    "del adj_weigh\n",
    "\n",
    "# We can initialiase our graph instance with degree and strength sequence\n",
    "graph_weighted = nem.UndirectedGraph(degree_sequence=degree_seq, strength_sequence=strength_seq)"
   ]
  },
  {
   "cell_type": "code",
   "execution_count": 38,
   "metadata": {},
   "outputs": [
    {
     "name": "stdout",
     "output_type": "stream",
     "text": [
      "\n",
      "solution error = 342170961427.0\n",
      "\n",
      "solution error = 567206482101.9584\n",
      "\n",
      "solution error = 361037925812.73413\n",
      "\n",
      "solution error = 485445968154.2223\n",
      "\n",
      "solution error = 406736885737.0\n",
      "\n",
      "solution error = 796785496021.6816\n",
      "\n",
      "solution error = 451894260718.09644\n",
      "\n",
      "solution error = 903240604384.619\n",
      "\n",
      "solution error = 471201956674.0554\n",
      "\n",
      "solution error = 936112016929.749\n",
      "\n",
      "solution error = 505506250174.78876\n",
      "\n",
      "solution error = 1000046666707.0507\n",
      "\n",
      "solution error = 536742356669.04285\n",
      "\n",
      "solution error = 1035592514348.6445\n",
      "\n",
      "solution error = 560403920746.8708\n",
      "\n",
      "solution error = 1035771207256.8403\n",
      "\n",
      "solution error = 590960843109.0779\n",
      "\n",
      "solution error = 1083816634017.3927\n",
      "\n",
      "solution error = 585263411933.8862\n",
      "\n",
      "solution error = 1087625389336.7073\n",
      "\n",
      "solution error = 592738877242.5737\n",
      "\n",
      "solution error = 1059723347412.7062\n"
     ]
    }
   ],
   "source": [
    "decms = {}\n",
    "uecms = {}\n",
    "\n",
    "for k, G in graphs.items():\n",
    "    # Directed Enhanced Configuration Model\n",
    "    out_degree = np.zeros(len(G))\n",
    "    in_degree = np.zeros(len(G))\n",
    "    n=0\n",
    "    for node in G.nodes():\n",
    "        out_degree[n] = G.out_degree(node)\n",
    "        in_degree[n] = G.in_degree(node)\n",
    "        n += 1\n",
    "    out_strength = np.array(list(strengths[k]['out'].values()))\n",
    "    in_strength = np.array(list(strengths[k]['in'].values()))\n",
    "\n",
    "    # We can initialiase our graph instance with degree and strength sequence\n",
    "    graph_weighted = nem.DirectedGraph(degree_sequence=np.concatenate([out_degree, in_degree]),\n",
    "                                strength_sequence=np.concatenate([out_strength, in_strength]))\n",
    "    graph_weighted.solve_tool(model=\"crema\",\n",
    "                          method=\"newton\",\n",
    "                          initial_guess=\"random\",\n",
    "                          adjacency=\"dcm_exp\",\n",
    "                          method_adjacency=\"newton\")\n",
    "    decms[k] = graph_weighted\n",
    "    # Undirected Enhanced Configuration Model\n",
    "    degree_seq = out_degree + in_degree\n",
    "    strength_seq = out_strength + in_strength\n",
    "    graph_weighted = nem.UndirectedGraph(degree_sequence=degree_seq, strength_sequence=strength_seq)\n",
    "    graph_weighted.solve_tool(model=\"crema\",\n",
    "                          method=\"newton\",\n",
    "                          initial_guess=\"random\",\n",
    "                          adjacency=\"cm_exp\",\n",
    "                          method_adjacency=\"newton\")\n",
    "    uecms[k] = graph_weighted\n",
    "\n"
   ]
  },
  {
   "cell_type": "code",
   "execution_count": 39,
   "metadata": {},
   "outputs": [
    {
     "name": "stdout",
     "output_type": "stream",
     "text": [
      "WDN_1992.txt.graphml | DECM | error degree 1.2056702303198108e-09 | error strength 342170961427.0\n",
      "WDN_1993.txt.graphml | DECM | error degree 2.9074236351789295e-09 | error strength 361037925812.73413\n",
      "WDN_1994.txt.graphml | DECM | error degree 5.046093320970613e-09 | error strength 406736885737.0\n",
      "WDN_1995.txt.graphml | DECM | error degree 3.954315985765788e-09 | error strength 451894260718.09644\n",
      "WDN_1996.txt.graphml | DECM | error degree 3.1559324042973458e-09 | error strength 471201956674.0554\n",
      "WDN_1997.txt.graphml | DECM | error degree 2.9816646929248236e-09 | error strength 505506250174.78876\n",
      "WDN_1998.txt.graphml | DECM | error degree 3.1343176942755235e-09 | error strength 536742356669.04285\n",
      "WDN_1999.txt.graphml | DECM | error degree 4.04017441724136e-09 | error strength 560403920746.8708\n",
      "WDN_2000.txt.graphml | DECM | error degree 3.6578065021330985e-09 | error strength 590960843109.0779\n",
      "WDN_2001.txt.graphml | DECM | error degree 6.594138568516428e-09 | error strength 585263411933.8862\n",
      "WDN_2002.txt.graphml | DECM | error degree 3.783714674909788e-09 | error strength 592738877242.5737\n"
     ]
    }
   ],
   "source": [
    "for k, cm in decms.items():\n",
    "    print(k + \" | DECM | error degree \" + str(cm.error_degree) + \" | error strength \" + str(cm.error_strength))"
   ]
  },
  {
   "cell_type": "code",
   "execution_count": 40,
   "metadata": {},
   "outputs": [
    {
     "name": "stdout",
     "output_type": "stream",
     "text": [
      "WDN_1992.txt.graphml | UECM | error degree 50.0 | error strength 567206482101.9584\n",
      "WDN_1993.txt.graphml | UECM | error degree 77.68637981967346 | error strength 485445968154.2223\n",
      "WDN_1994.txt.graphml | UECM | error degree 101.96055580672638 | error strength 796785496021.6816\n",
      "WDN_1995.txt.graphml | UECM | error degree 101.00283174035704 | error strength 903240604384.619\n",
      "WDN_1996.txt.graphml | UECM | error degree 108.0 | error strength 936112016929.749\n",
      "WDN_1997.txt.graphml | UECM | error degree 116.84963843719649 | error strength 1000046666707.0507\n",
      "WDN_1998.txt.graphml | UECM | error degree 118.0 | error strength 1035592514348.6445\n",
      "WDN_1999.txt.graphml | UECM | error degree 134.17497358066913 | error strength 1035771207256.8403\n",
      "WDN_2000.txt.graphml | UECM | error degree 125.00000161524179 | error strength 1083816634017.3927\n",
      "WDN_2001.txt.graphml | UECM | error degree 127.00004284421897 | error strength 1087625389336.7073\n",
      "WDN_2002.txt.graphml | UECM | error degree 120.0 | error strength 1059723347412.7062\n"
     ]
    }
   ],
   "source": [
    "for k, cm in uecms.items():\n",
    "    print(k + \" | UECM | error degree \" + str(cm.error_degree) + \" | error strength \" + str(cm.error_strength))"
   ]
  },
  {
   "cell_type": "code",
   "execution_count": null,
   "metadata": {},
   "outputs": [],
   "source": []
  }
 ],
 "metadata": {
  "kernelspec": {
   "display_name": "network_science",
   "language": "python",
   "name": "python3"
  },
  "language_info": {
   "codemirror_mode": {
    "name": "ipython",
    "version": 3
   },
   "file_extension": ".py",
   "mimetype": "text/x-python",
   "name": "python",
   "nbconvert_exporter": "python",
   "pygments_lexer": "ipython3",
   "version": "3.7.16"
  }
 },
 "nbformat": 4,
 "nbformat_minor": 2
}
