{
 "cells": [
  {
   "cell_type": "code",
   "execution_count": 38,
   "metadata": {},
   "outputs": [],
   "source": [
    "import networkx as nx\n",
    "import matplotlib.pyplot as plt\n",
    "from os import listdir\n",
    "from os.path import isfile, join\n",
    "import NEMtropy as nem\n",
    "import numpy as np"
   ]
  },
  {
   "cell_type": "code",
   "execution_count": 39,
   "metadata": {},
   "outputs": [],
   "source": [
    "# Load the datasets from the assignment_1_data folder\n",
    "path = \"World_Trade_Web/\"\n",
    "files = [f for f in listdir(path) if isfile(join(path, f))]\n",
    "gmls = [nx.read_graphml(path + f) for f in files]\n",
    "\n",
    "graphs = {k: v for k, v in zip(files, gmls)}"
   ]
  },
  {
   "cell_type": "code",
   "execution_count": 40,
   "metadata": {},
   "outputs": [],
   "source": [
    "# Test graph from the paper\n",
    "# Do not execute for the assignment\n",
    "\n",
    "# G=nx.DiGraph()\n",
    "# G.add_nodes_from([\"A\",\"B\",\"C\",\"D\",\"E\",\"F\",\"G\",\"H\"])\n",
    "# G.add_edges_from([(\"A\",\"B\", {\"weight\": 10}),(\"A\",\"E\", {\"weight\":3}), (\"C\", \"A\", {\"weight\":1}), (\"D\", \"A\",{\"weight\":2}), (\"B\", \"G\",{\"weight\":5}), (\"B\", \"F\",{\"weight\":4}), (\"H\", \"B\",{\"weight\":6})])\n",
    "# graphs={}\n",
    "# graphs[\"test\"] = G"
   ]
  },
  {
   "cell_type": "code",
   "execution_count": 41,
   "metadata": {},
   "outputs": [],
   "source": [
    "def calc_strengths(G):\n",
    "    in_ = {}\n",
    "    out = {}\n",
    "    for source, target, weight in G.edges(data=\"weight\"):\n",
    "        if source not in out:\n",
    "            out[source] = 0\n",
    "        if source not in in_:\n",
    "            in_[source] = 0\n",
    "        if target not in out:\n",
    "            out[target] = 0\n",
    "        if target not in in_:\n",
    "            in_[target] = 0\n",
    "        if weight is not None:\n",
    "            out[source] += weight\n",
    "            in_[target] += weight\n",
    "    return {\"in\": in_, \"out\": out}"
   ]
  },
  {
   "cell_type": "code",
   "execution_count": 42,
   "metadata": {},
   "outputs": [],
   "source": [
    "def calc_s_bars_sigmas(strengths):\n",
    "    W = sum(strengths[\"out\"].values())\n",
    "    s_bar_sou_out = 0\n",
    "    s_bar_sou_in = 0\n",
    "    s_bar_tar_in = 0\n",
    "    s_bar_tar_out = 0\n",
    "    for node in strengths[\"out\"]:\n",
    "        s_bar_sou_out += strengths[\"out\"][node]*strengths[\"out\"][node]\n",
    "        s_bar_sou_in += strengths[\"out\"][node]*strengths[\"in\"][node]\n",
    "        s_bar_tar_out += strengths[\"in\"][node]*strengths[\"out\"][node]\n",
    "        s_bar_tar_in += strengths[\"in\"][node]*strengths[\"in\"][node]\n",
    "    s_bar_sou_out /= W\n",
    "    s_bar_sou_in /= W\n",
    "    s_bar_tar_in /= W\n",
    "    s_bar_tar_out /= W\n",
    "    sigma_sou_out = 0\n",
    "    sigma_sou_in = 0\n",
    "    sigma_tar_in = 0\n",
    "    sigma_tar_out = 0\n",
    "    for node in strengths[\"out\"]:\n",
    "        sigma_sou_out += strengths[\"out\"][node]*(strengths[\"out\"][node] - s_bar_sou_out)**2\n",
    "        sigma_sou_in += strengths[\"out\"][node]*(strengths[\"in\"][node] - s_bar_sou_in)**2\n",
    "        sigma_tar_in += strengths[\"in\"][node]*(strengths[\"in\"][node] - s_bar_tar_in)**2\n",
    "        sigma_tar_out += strengths[\"in\"][node]*(strengths[\"out\"][node] - s_bar_tar_out)**2\n",
    "    sigma_sou_out = np.sqrt(sigma_sou_out/W)\n",
    "    sigma_sou_in = np.sqrt(sigma_sou_in/W)\n",
    "    sigma_tar_in = np.sqrt(sigma_tar_in/W)\n",
    "    sigma_tar_out = np.sqrt(sigma_tar_out/W)\n",
    "    return {\"s_bar_sou_out\": s_bar_sou_out, \"s_bar_sou_in\": s_bar_sou_in, \"s_bar_tar_in\": s_bar_tar_in, \"s_bar_tar_out\": s_bar_tar_out, \"sigma_sou_out\": sigma_sou_out, \"sigma_sou_in\": sigma_sou_in, \"sigma_tar_in\": sigma_tar_in, \"sigma_tar_out\": sigma_tar_out}"
   ]
  },
  {
   "cell_type": "code",
   "execution_count": 43,
   "metadata": {},
   "outputs": [],
   "source": [
    "def calc_rhos(G, strengths, s_bars_sigmas):\n",
    "    W = sum(strengths[\"out\"].values())\n",
    "    rho_out_in = 0\n",
    "    rho_out_out = 0\n",
    "    rho_in_in = 0\n",
    "    rho_in_out = 0\n",
    "    for source, target, weight in G.edges(data=\"weight\"):\n",
    "        if weight is not None:\n",
    "            rho_out_in += weight*(strengths[\"out\"][source] - s_bars_sigmas[\"s_bar_sou_out\"])*(strengths[\"in\"][target] - s_bars_sigmas[\"s_bar_tar_in\"])\n",
    "            rho_out_out += weight*(strengths[\"out\"][source] - s_bars_sigmas[\"s_bar_sou_out\"])*(strengths[\"out\"][target] - s_bars_sigmas[\"s_bar_tar_out\"])\n",
    "            rho_in_in += weight*(strengths[\"in\"][source] - s_bars_sigmas[\"s_bar_sou_in\"])*(strengths[\"in\"][target] - s_bars_sigmas[\"s_bar_tar_in\"])\n",
    "            rho_in_out += weight*(strengths[\"in\"][source] - s_bars_sigmas[\"s_bar_sou_in\"])*(strengths[\"out\"][target] - s_bars_sigmas[\"s_bar_tar_out\"])\n",
    "    rho_out_in /= W*s_bars_sigmas[\"sigma_sou_out\"]*s_bars_sigmas[\"sigma_tar_in\"]\n",
    "    rho_out_out /= W*s_bars_sigmas[\"sigma_sou_out\"]*s_bars_sigmas[\"sigma_tar_out\"]\n",
    "    rho_in_in /= W*s_bars_sigmas[\"sigma_sou_in\"]*s_bars_sigmas[\"sigma_tar_in\"]\n",
    "    rho_in_out /= W*s_bars_sigmas[\"sigma_sou_in\"]*s_bars_sigmas[\"sigma_tar_out\"]\n",
    "    return {\"rho_out_in\": rho_out_in, \"rho_out_out\": rho_out_out, \"rho_in_in\": rho_in_in, \"rho_in_out\": rho_in_out}\n"
   ]
  },
  {
   "cell_type": "code",
   "execution_count": 44,
   "metadata": {},
   "outputs": [
    {
     "name": "stdout",
     "output_type": "stream",
     "text": [
      "WDN_1992.txt.graphml | rho out-in: -0.2664117215330637| rho out-out: -0.26076773855213525| rho in-in: -0.23043052971239772| rho in-out: -0.2178041687531879\n",
      "WDN_1993.txt.graphml | rho out-in: -0.2332948861604653| rho out-out: -0.21690124032555627| rho in-in: -0.23436902905204038| rho in-out: -0.2021385793483107\n",
      "WDN_1994.txt.graphml | rho out-in: -0.2280788632262324| rho out-out: -0.22662914473192905| rho in-in: -0.22585786853596368| rho in-out: -0.22015233241342597\n",
      "WDN_1995.txt.graphml | rho out-in: -0.21154591029146982| rho out-out: -0.20812357271965518| rho in-in: -0.21449016601768575| rho in-out: -0.2074765749509863\n",
      "WDN_1996.txt.graphml | rho out-in: -0.19698652263843464| rho out-out: -0.19471663098921604| rho in-in: -0.2022276276627051| rho in-out: -0.19651218763930592\n",
      "WDN_1997.txt.graphml | rho out-in: -0.1918257224497967| rho out-out: -0.19315231407495667| rho in-in: -0.1932977484020739| rho in-out: -0.19017801772442888\n",
      "WDN_1998.txt.graphml | rho out-in: -0.20399322491207095| rho out-out: -0.20607964658938413| rho in-in: -0.20292373888954585| rho in-out: -0.20184081481460878\n",
      "WDN_1999.txt.graphml | rho out-in: -0.18457920354872986| rho out-out: -0.1917491233533954| rho in-in: -0.18296706584708883| rho in-out: -0.1872882796206816\n",
      "WDN_2000.txt.graphml | rho out-in: -0.17226124659453657| rho out-out: -0.18562086388123963| rho in-in: -0.17040687852953407| rho in-out: -0.1801850188546767\n",
      "WDN_2001.txt.graphml | rho out-in: -0.16632521583819818| rho out-out: -0.18174864122043805| rho in-in: -0.16058888802860838| rho in-out: -0.17259877022020148\n",
      "WDN_2002.txt.graphml | rho out-in: -0.16162042219644934| rho out-out: -0.17726025110536478| rho in-in: -0.15774335828856165| rho in-out: -0.16814788587673626\n"
     ]
    }
   ],
   "source": [
    "strengths = {}\n",
    "for k, G in graphs.items():\n",
    "    strengths[k] = calc_strengths(G)\n",
    "\n",
    "s_bars_sigmas = {}\n",
    "for k, s in strengths.items():\n",
    "    s_bars_sigmas[k] = calc_s_bars_sigmas(s)\n",
    "\n",
    "rhos = {}\n",
    "for k, G in graphs.items():\n",
    "    rhos[k] = calc_rhos(G, strengths[k], s_bars_sigmas[k])\n",
    "    print(k + \" | \" + \"rho out-in: \" + str(rhos[k][\"rho_out_in\"]) + \"| rho out-out: \" + str(rhos[k][\"rho_out_out\"]) + \"| rho in-in: \" + str(rhos[k][\"rho_in_in\"]) + \"| rho in-out: \" + str(rhos[k][\"rho_in_out\"]))"
   ]
  },
  {
   "cell_type": "code",
   "execution_count": 45,
   "metadata": {},
   "outputs": [
    {
     "name": "stderr",
     "output_type": "stream",
     "text": [
      "c:\\Users\\paull\\miniconda3\\envs\\network_science\\lib\\site-packages\\numba\\core\\utils.py:613: NumbaExperimentalFeatureWarning: \u001b[1mFirst-class function type feature is experimental\u001b[0m\n",
      "  category=NumbaExperimentalFeatureWarning)\n"
     ]
    },
    {
     "name": "stdout",
     "output_type": "stream",
     "text": [
      "\n",
      "solution error = 342170961427.0\n",
      "\n",
      "solution error = 566231432964.8304\n",
      "\n",
      "solution error = 361026877077.33167\n",
      "\n",
      "solution error = 680206813080.2322\n",
      "\n",
      "solution error = 406736885737.0\n",
      "\n",
      "solution error = 786524497396.5895\n",
      "\n",
      "solution error = 451961251474.8283\n",
      "\n",
      "solution error = 902939880230.9824\n",
      "\n",
      "solution error = 470661181470.2779\n",
      "\n",
      "solution error = 936224985914.5435\n",
      "\n",
      "solution error = 504918791947.98724\n",
      "\n",
      "solution error = 1878726183708.4731\n",
      "\n",
      "solution error = 499067650283.9605\n",
      "\n",
      "solution error = 1033009244897.0477\n",
      "\n",
      "solution error = 560139923799.0708\n",
      "\n",
      "solution error = 1036122719337.0374\n",
      "\n",
      "solution error = 591032103404.223\n",
      "\n",
      "solution error = 1083865948531.3154\n",
      "\n",
      "solution error = 271318780691243.9\n",
      "\n",
      "solution error = 885030204288.1631\n",
      "\n",
      "solution error = 574266627969.8245\n",
      "\n",
      "solution error = 1061195607983.315\n"
     ]
    }
   ],
   "source": [
    "decms = {}\n",
    "uecms = {}\n",
    "\n",
    "for k, G in graphs.items():\n",
    "    # Directed Enhanced Configuration Model\n",
    "    out_degree = np.zeros(len(G))\n",
    "    in_degree = np.zeros(len(G))\n",
    "    n=0\n",
    "    for node in G.nodes():\n",
    "        out_degree[n] = G.out_degree(node)\n",
    "        in_degree[n] = G.in_degree(node)\n",
    "        n += 1\n",
    "    out_strength = np.array(list(strengths[k]['out'].values()))\n",
    "    in_strength = np.array(list(strengths[k]['in'].values()))\n",
    "\n",
    "    # We can initialiase our graph instance with degree and strength sequence\n",
    "    graph_weighted = nem.DirectedGraph(degree_sequence=np.concatenate([out_degree, in_degree]),\n",
    "                                strength_sequence=np.concatenate([out_strength, in_strength]))\n",
    "    graph_weighted.solve_tool(model=\"crema\",\n",
    "                          method=\"newton\",\n",
    "                          initial_guess=\"random\",\n",
    "                          adjacency=\"dcm_exp\",\n",
    "                          method_adjacency=\"newton\")\n",
    "    decms[k] = graph_weighted\n",
    "    # Undirected Enhanced Configuration Model\n",
    "    degree_seq = out_degree + in_degree\n",
    "    strength_seq = out_strength + in_strength\n",
    "    graph_weighted = nem.UndirectedGraph(degree_sequence=degree_seq, strength_sequence=strength_seq)\n",
    "    graph_weighted.solve_tool(model=\"crema\",\n",
    "                          method=\"newton\",\n",
    "                          initial_guess=\"random\",\n",
    "                          adjacency=\"cm_exp\",\n",
    "                          method_adjacency=\"newton\")\n",
    "    uecms[k] = graph_weighted\n",
    "\n"
   ]
  },
  {
   "cell_type": "code",
   "execution_count": 46,
   "metadata": {},
   "outputs": [
    {
     "name": "stdout",
     "output_type": "stream",
     "text": [
      "WDN_1992.txt.graphml | DECM | error degree 2.064552973024547e-09 | error strength 342170961427.0\n",
      "WDN_1993.txt.graphml | DECM | error degree 7.360011267110167e-09 | error strength 361026877077.33167\n",
      "WDN_1994.txt.graphml | DECM | error degree 3.825643801746992e-09 | error strength 406736885737.0\n",
      "WDN_1995.txt.graphml | DECM | error degree 2.5713156048823294e-09 | error strength 451961251474.8283\n",
      "WDN_1996.txt.graphml | DECM | error degree 1.8550743163814332e-09 | error strength 470661181470.2779\n",
      "WDN_1997.txt.graphml | DECM | error degree 2.9827731395926094e-09 | error strength 504918791947.98724\n",
      "WDN_1998.txt.graphml | DECM | error degree 3.5130653941450873e-09 | error strength 499067650283.9605\n",
      "WDN_1999.txt.graphml | DECM | error degree 3.336111831231392e-09 | error strength 560139923799.0708\n",
      "WDN_2000.txt.graphml | DECM | error degree 2.7111468625662383e-09 | error strength 591032103404.223\n",
      "WDN_2001.txt.graphml | DECM | error degree 2.364767937024226e-09 | error strength 271318780691243.9\n",
      "WDN_2002.txt.graphml | DECM | error degree 2.6616930881573353e-09 | error strength 574266627969.8245\n"
     ]
    }
   ],
   "source": [
    "for k, cm in decms.items():\n",
    "    print(k + \" | DECM | error degree \" + str(cm.error_degree) + \" | error strength \" + str(cm.error_strength))"
   ]
  },
  {
   "cell_type": "code",
   "execution_count": 47,
   "metadata": {},
   "outputs": [
    {
     "name": "stdout",
     "output_type": "stream",
     "text": [
      "WDN_1992.txt.graphml | UECM | error degree 50.0 | error strength 566231432964.8304\n",
      "WDN_1993.txt.graphml | UECM | error degree 111.82500824831705 | error strength 680206813080.2322\n",
      "WDN_1994.txt.graphml | UECM | error degree 104.25956942651635 | error strength 786524497396.5895\n",
      "WDN_1995.txt.graphml | UECM | error degree 101.0 | error strength 902939880230.9824\n",
      "WDN_1996.txt.graphml | UECM | error degree 108.0 | error strength 936224985914.5435\n",
      "WDN_1997.txt.graphml | UECM | error degree 116.00000051610294 | error strength 1878726183708.4731\n",
      "WDN_1998.txt.graphml | UECM | error degree 118.0 | error strength 1033009244897.0477\n",
      "WDN_1999.txt.graphml | UECM | error degree 126.85862465391688 | error strength 1036122719337.0374\n",
      "WDN_2000.txt.graphml | UECM | error degree 125.0 | error strength 1083865948531.3154\n",
      "WDN_2001.txt.graphml | UECM | error degree 127.00000005304537 | error strength 885030204288.1631\n",
      "WDN_2002.txt.graphml | UECM | error degree 120.0 | error strength 1061195607983.315\n"
     ]
    }
   ],
   "source": [
    "for k, cm in uecms.items():\n",
    "    print(k + \" | UECM | error degree \" + str(cm.error_degree) + \" | error strength \" + str(cm.error_strength))"
   ]
  },
  {
   "cell_type": "code",
   "execution_count": 48,
   "metadata": {},
   "outputs": [],
   "source": [
    "sample_networks = {}\n",
    "# Load the datasets from the assignment_1_data folder\n",
    "path = \"samples_\"\n",
    "\n",
    "for k, cm in decms.items():\n",
    "    cm.ensemble_sampler(n=30, output_dir=path + k + \"/\")\n",
    "    sample_networks[k] = []\n",
    "    files = [f for f in listdir(path + k) if isfile(join(path + k, f))]\n",
    "    edgelist_ens = [np.loadtxt(path + k + \"/\" + f) for f in files]\n",
    "\n",
    "    for i, e in enumerate(edgelist_ens):\n",
    "        ens_adj = nem.network_functions.build_adjacency_from_edgelist(edgelist = e,\n",
    "                                                is_directed = True,\n",
    "                                                is_sparse = False,\n",
    "                                                is_weighted = True)\n",
    "        sample_networks[k].append(nx.from_numpy_array(ens_adj))"
   ]
  },
  {
   "cell_type": "code",
   "execution_count": 49,
   "metadata": {},
   "outputs": [],
   "source": [
    "sample_strengths = {}\n",
    "for k, s in sample_networks.items():\n",
    "    sample_strengths[k] = [calc_strengths(G) for G in s]\n",
    "\n",
    "sample_s_bars_sigmas = {}\n",
    "for k, ss in sample_strengths.items():\n",
    "    sample_s_bars_sigmas[k] = [calc_s_bars_sigmas(s) for s in ss]\n",
    "\n",
    "rhos = {}\n",
    "for k, Gs in sample_networks.items():\n",
    "    rhos[k] = []\n",
    "    for i in range(len(Gs)):\n",
    "        rhos[k].append(calc_rhos(Gs[i], sample_strengths[k][i], sample_s_bars_sigmas[k][i]))"
   ]
  },
  {
   "cell_type": "code",
   "execution_count": 50,
   "metadata": {},
   "outputs": [],
   "source": [
    "average_rhos = {}\n",
    "\n",
    "for k, r in rhos.items():\n",
    "    average_rhos[k] = {}\n",
    "    for i in range(len(r)):\n",
    "        for key, value in r[i].items():\n",
    "            if key not in average_rhos[k]:\n",
    "                average_rhos[k][key] = []\n",
    "            average_rhos[k][key].append(value)\n",
    "            "
   ]
  },
  {
   "cell_type": "code",
   "execution_count": 51,
   "metadata": {},
   "outputs": [
    {
     "name": "stdout",
     "output_type": "stream",
     "text": [
      "Average rhos\n",
      "WDN_1992.txt.graphml\n",
      "rho_out_in: -0.4524136097462731 +- 0.2912954008636417\n",
      "rho_out_out: -0.020546905003460254 +- 0.23582223921870338\n",
      "rho_in_in: -0.28308736901821063 +- 0.17241043189652525\n",
      "rho_in_out: -0.21734764652132738 +- 0.1390198699981063\n",
      "WDN_1993.txt.graphml\n",
      "rho_out_in: 0.6879958343249734 +- 0.22679287984427335\n",
      "rho_out_out: -0.3917788125653896 +- 0.30017971629607637\n",
      "rho_in_in: 0.3553505377050953 +- 0.42508770476197033\n",
      "rho_in_out: -0.40592235952443073 +- 0.2597670032084101\n",
      "WDN_1994.txt.graphml\n",
      "rho_out_in: 0.41272481145721696 +- 0.3272423792397845\n",
      "rho_out_out: 0.11775145586661567 +- 0.2028685816365619\n",
      "rho_in_in: 0.005492200948734187 +- 0.19574285851314074\n",
      "rho_in_out: -0.11030235609848606 +- 0.09232642142972228\n",
      "WDN_1995.txt.graphml\n",
      "rho_out_in: 0.513720201827475 +- 0.2985298499088806\n",
      "rho_out_out: 0.07948505740001076 +- 0.5746455445572516\n",
      "rho_in_in: -0.1514902613895401 +- 0.3639768438069927\n",
      "rho_in_out: -0.45011678645028486 +- 0.16974174374270795\n",
      "WDN_1996.txt.graphml\n",
      "rho_out_in: 0.5728960277632315 +- 0.19798439409097957\n",
      "rho_out_out: 0.43123351780790126 +- 0.2981644245758786\n",
      "rho_in_in: -0.28907379222359547 +- 0.091853858126927\n",
      "rho_in_out: -0.2966405893947023 +- 0.13060512780165712\n",
      "WDN_1997.txt.graphml\n",
      "rho_out_in: 0.4619330518088065 +- 0.2747220707875633\n",
      "rho_out_out: 0.272624220142571 +- 0.2702557140969114\n",
      "rho_in_in: -0.024153029755419782 +- 0.24338676263008094\n",
      "rho_in_out: -0.27533338783996725 +- 0.09481258368479847\n",
      "WDN_1998.txt.graphml\n",
      "rho_out_in: 0.6919054427588271 +- 0.3408673757429816\n",
      "rho_out_out: 0.4489487476599873 +- 0.6628793754243227\n",
      "rho_in_in: -0.7692370117259376 +- 0.588102741831122\n",
      "rho_in_out: -0.9753126703343951 +- 0.07901119546550162\n",
      "WDN_1999.txt.graphml\n",
      "rho_out_in: 0.6040461038338388 +- 0.36732320975410354\n",
      "rho_out_out: -0.1981917887169227 +- 0.4056268704327928\n",
      "rho_in_in: -0.09793154296553266 +- 0.3442617402026945\n",
      "rho_in_out: -0.13786201332892967 +- 0.2312137370578606\n",
      "WDN_2000.txt.graphml\n",
      "rho_out_in: 0.4820891766559638 +- 0.31489978118248696\n",
      "rho_out_out: -0.31332501456209844 +- 0.4635738003476264\n",
      "rho_in_in: 0.2042361606924606 +- 0.3774011470217912\n",
      "rho_in_out: -0.25528155237602856 +- 0.2855863416058071\n",
      "WDN_2001.txt.graphml\n",
      "rho_out_in: 0.0017227524949007082 +- 0.0006689837394324218\n",
      "rho_out_out: -0.0001510042780836397 +- 7.436574576120635e-05\n",
      "rho_in_in: -0.3680734062067014 +- 0.12331358434366234\n",
      "rho_in_out: -8.736952823363531e-08 +- 1.3796215037427876e-07\n",
      "WDN_2002.txt.graphml\n",
      "rho_out_in: 0.30569998494267486 +- 0.32325485301789625\n",
      "rho_out_out: 0.30330985063066657 +- 0.32501276603166684\n",
      "rho_in_in: -0.9985954860030272 +- 0.0019036672144402433\n",
      "rho_in_out: -0.9862272242459507 +- 0.06880639670024949\n"
     ]
    }
   ],
   "source": [
    "print(\"Average rhos\")\n",
    "for k, r in average_rhos.items():\n",
    "    print(k)\n",
    "    for key, value in r.items():\n",
    "        print(key + \": \" + str(np.mean(value)) + \" +- \" + str(np.std(value)))"
   ]
  }
 ],
 "metadata": {
  "kernelspec": {
   "display_name": "network_science",
   "language": "python",
   "name": "python3"
  },
  "language_info": {
   "codemirror_mode": {
    "name": "ipython",
    "version": 3
   },
   "file_extension": ".py",
   "mimetype": "text/x-python",
   "name": "python",
   "nbconvert_exporter": "python",
   "pygments_lexer": "ipython3",
   "version": "3.7.16"
  }
 },
 "nbformat": 4,
 "nbformat_minor": 2
}
