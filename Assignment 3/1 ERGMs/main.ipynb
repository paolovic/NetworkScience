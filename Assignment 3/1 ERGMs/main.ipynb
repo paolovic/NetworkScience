{
 "cells": [
  {
   "cell_type": "code",
   "execution_count": 15,
   "metadata": {},
   "outputs": [],
   "source": [
    "import networkx as nx\n",
    "import matplotlib.pyplot as plt\n",
    "from os import listdir\n",
    "from os.path import isfile, join\n",
    "import json\n",
    "import numpy as np"
   ]
  },
  {
   "cell_type": "code",
   "execution_count": 16,
   "metadata": {},
   "outputs": [],
   "source": [
    "# Load the datasets from the assignment_1_data folder\n",
    "path = \"World_Trade_Web/\"\n",
    "files = [f for f in listdir(path) if isfile(join(path, f))]\n",
    "gmls = [nx.read_graphml(path + f) for f in files]\n",
    "\n",
    "graphs = {k: v for k, v in zip(files, gmls)}"
   ]
  },
  {
   "cell_type": "code",
   "execution_count": 9,
   "metadata": {},
   "outputs": [],
   "source": [
    "# Test graph from the paper\n",
    "# Do not execute for the assignment\n",
    "\n",
    "G=nx.DiGraph()\n",
    "G.add_nodes_from([\"A\",\"B\",\"C\",\"D\",\"E\",\"F\",\"G\",\"H\"])\n",
    "G.add_edges_from([(\"A\",\"B\", {\"weight\": 10}),(\"A\",\"E\", {\"weight\":3}), (\"C\", \"A\", {\"weight\":1}), (\"D\", \"A\",{\"weight\":2}), (\"B\", \"G\",{\"weight\":5}), (\"B\", \"F\",{\"weight\":4}), (\"H\", \"B\",{\"weight\":6})])\n",
    "\n",
    "graphs={}\n",
    "graphs[\"test\"] = G"
   ]
  },
  {
   "cell_type": "code",
   "execution_count": 17,
   "metadata": {},
   "outputs": [],
   "source": [
    "strengths = {}\n",
    "\n",
    "for k, G in graphs.items():\n",
    "    in_ = {}\n",
    "    out = {}\n",
    "    for source, target, weight in G.edges(data=\"weight\"):\n",
    "        if source not in out:\n",
    "            out[source] = 0\n",
    "        if source not in in_:\n",
    "            in_[source] = 0\n",
    "        if target not in out:\n",
    "            out[target] = 0\n",
    "        if target not in in_:\n",
    "            in_[target] = 0\n",
    "        if weight is not None:\n",
    "            out[source] += weight\n",
    "            in_[target] += weight\n",
    "    strengths[k] = {\"in\": in_, \"out\": out}"
   ]
  },
  {
   "cell_type": "code",
   "execution_count": 18,
   "metadata": {},
   "outputs": [],
   "source": [
    "W = {}\n",
    "s_bar_sou_out = {}\n",
    "s_bar_sou_in = {}\n",
    "s_bar_tar_in = {}\n",
    "s_bar_tar_out = {}\n",
    "sigma_sou_out = {}\n",
    "sigma_sou_in = {}\n",
    "sigma_tar_in = {}\n",
    "sigma_tar_out = {}\n",
    "\n",
    "for k, strength in strengths.items():\n",
    "    W[k] = sum(strength[\"out\"].values())\n",
    "    s_bar_sou_out[k] = 0\n",
    "    s_bar_sou_in[k] = 0\n",
    "    s_bar_tar_in[k] = 0\n",
    "    s_bar_tar_out[k] = 0\n",
    "    for node in strength[\"out\"]:\n",
    "        s_bar_sou_out[k] += strength[\"out\"][node]*strength[\"out\"][node]\n",
    "        s_bar_sou_in[k] += strength[\"out\"][node]*strength[\"in\"][node]\n",
    "        s_bar_tar_out[k] += strength[\"in\"][node]*strength[\"out\"][node]\n",
    "        s_bar_tar_in[k] += strength[\"in\"][node]*strength[\"in\"][node]\n",
    "    s_bar_sou_out[k] /= W[k]\n",
    "    s_bar_sou_in[k] /= W[k]\n",
    "    s_bar_tar_in[k] /= W[k]\n",
    "    s_bar_tar_out[k] /= W[k]\n",
    "    sigma_sou_out[k] = 0\n",
    "    sigma_sou_in[k] = 0\n",
    "    sigma_tar_in[k] = 0\n",
    "    sigma_tar_out[k] = 0\n",
    "    for node in strength[\"out\"]:\n",
    "        sigma_sou_out[k] += strength[\"out\"][node]*(strength[\"out\"][node] - s_bar_sou_out[k])**2\n",
    "        sigma_sou_in[k] += strength[\"out\"][node]*(strength[\"in\"][node] - s_bar_sou_in[k])**2\n",
    "        sigma_tar_in[k] += strength[\"in\"][node]*(strength[\"in\"][node] - s_bar_tar_in[k])**2\n",
    "        sigma_tar_out[k] += strength[\"in\"][node]*(strength[\"out\"][node] - s_bar_tar_out[k])**2\n",
    "    sigma_sou_out[k] = np.sqrt(sigma_sou_out[k]/W[k])\n",
    "    sigma_sou_in[k] = np.sqrt(sigma_sou_in[k]/W[k])\n",
    "    sigma_tar_in[k] = np.sqrt(sigma_tar_in[k]/W[k])\n",
    "    sigma_tar_out[k] = np.sqrt(sigma_tar_out[k]/W[k])"
   ]
  },
  {
   "cell_type": "code",
   "execution_count": 19,
   "metadata": {},
   "outputs": [
    {
     "name": "stdout",
     "output_type": "stream",
     "text": [
      "WDN_1992.txt.graphml | rho out-in: -0.2664117215330637| rho out-out: -0.26076773855213525| rho in-in: -0.23043052971239772| rho in-out: -0.2178041687531879\n",
      "WDN_1993.txt.graphml | rho out-in: -0.2332948861604653| rho out-out: -0.21690124032555627| rho in-in: -0.23436902905204038| rho in-out: -0.2021385793483107\n",
      "WDN_1994.txt.graphml | rho out-in: -0.2280788632262324| rho out-out: -0.22662914473192905| rho in-in: -0.22585786853596368| rho in-out: -0.22015233241342597\n",
      "WDN_1995.txt.graphml | rho out-in: -0.21154591029146982| rho out-out: -0.20812357271965518| rho in-in: -0.21449016601768575| rho in-out: -0.2074765749509863\n",
      "WDN_1996.txt.graphml | rho out-in: -0.19698652263843464| rho out-out: -0.19471663098921604| rho in-in: -0.2022276276627051| rho in-out: -0.19651218763930592\n",
      "WDN_1997.txt.graphml | rho out-in: -0.1918257224497967| rho out-out: -0.19315231407495667| rho in-in: -0.1932977484020739| rho in-out: -0.19017801772442888\n",
      "WDN_1998.txt.graphml | rho out-in: -0.20399322491207095| rho out-out: -0.20607964658938413| rho in-in: -0.20292373888954585| rho in-out: -0.20184081481460878\n",
      "WDN_1999.txt.graphml | rho out-in: -0.18457920354872986| rho out-out: -0.1917491233533954| rho in-in: -0.18296706584708883| rho in-out: -0.1872882796206816\n",
      "WDN_2000.txt.graphml | rho out-in: -0.17226124659453657| rho out-out: -0.18562086388123963| rho in-in: -0.17040687852953407| rho in-out: -0.1801850188546767\n",
      "WDN_2001.txt.graphml | rho out-in: -0.16632521583819818| rho out-out: -0.18174864122043805| rho in-in: -0.16058888802860838| rho in-out: -0.17259877022020148\n",
      "WDN_2002.txt.graphml | rho out-in: -0.16162042219644934| rho out-out: -0.17726025110536478| rho in-in: -0.15774335828856165| rho in-out: -0.16814788587673626\n"
     ]
    }
   ],
   "source": [
    "rho_out_in = {}\n",
    "rho_out_out = {}\n",
    "rho_in_in = {}\n",
    "rho_in_out = {}\n",
    "\n",
    "for k, G in graphs.items():\n",
    "    rho_out_in[k] = 0\n",
    "    rho_out_out[k] = 0\n",
    "    rho_in_in[k] = 0\n",
    "    rho_in_out[k] = 0\n",
    "    for source, target, weight in G.edges(data=\"weight\"):\n",
    "        if weight is not None:\n",
    "            rho_out_in[k] += weight*(strengths[k][\"out\"][source] - s_bar_sou_out[k])*(strengths[k][\"in\"][target] - s_bar_tar_in[k])\n",
    "            rho_out_out[k] += weight*(strengths[k][\"out\"][source] - s_bar_sou_out[k])*(strengths[k][\"out\"][target] - s_bar_tar_out[k])\n",
    "            rho_in_in[k] += weight*(strengths[k][\"in\"][source] - s_bar_sou_in[k])*(strengths[k][\"in\"][target] - s_bar_tar_in[k])\n",
    "            rho_in_out[k] += weight*(strengths[k][\"in\"][source] - s_bar_sou_in[k])*(strengths[k][\"out\"][target] - s_bar_tar_out[k])\n",
    "    rho_out_in[k] /= W[k]*sigma_sou_out[k]*sigma_tar_in[k]\n",
    "    rho_out_out[k] /= W[k]*sigma_sou_out[k]*sigma_tar_out[k]\n",
    "    rho_in_in[k] /= W[k]*sigma_sou_in[k]*sigma_tar_in[k]\n",
    "    rho_in_out[k] /= W[k]*sigma_sou_in[k]*sigma_tar_out[k]\n",
    "\n",
    "    print(k + \" | \" + \"rho out-in: \" + str(rho_out_in[k]) + \"| rho out-out: \" + str(rho_out_out[k]) + \"| rho in-in: \" + str(rho_in_in[k]) + \"| rho in-out: \" + str(rho_in_out[k]))\n"
   ]
  }
 ],
 "metadata": {
  "kernelspec": {
   "display_name": "network_science",
   "language": "python",
   "name": "python3"
  },
  "language_info": {
   "codemirror_mode": {
    "name": "ipython",
    "version": 3
   },
   "file_extension": ".py",
   "mimetype": "text/x-python",
   "name": "python",
   "nbconvert_exporter": "python",
   "pygments_lexer": "ipython3",
   "version": "3.7.16"
  }
 },
 "nbformat": 4,
 "nbformat_minor": 2
}
