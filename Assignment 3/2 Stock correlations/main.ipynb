{
 "cells": [
  {
   "cell_type": "code",
   "execution_count": 1,
   "metadata": {},
   "outputs": [],
   "source": [
    "import networkx as nx\n",
    "import matplotlib.pyplot as plt\n",
    "from os import listdir\n",
    "from os.path import isfile, join\n",
    "import NEMtropy as nem\n",
    "import numpy as np"
   ]
  },
  {
   "cell_type": "code",
   "execution_count": 14,
   "metadata": {},
   "outputs": [],
   "source": [
    "# Load the datasets from the assignment_1_data folder\n",
    "path = \"NYSE/\"\n",
    "npy_files = [f for f in listdir(path) if isfile(join(path, f)) and f.endswith(\".npy\")]\n",
    "numpy_files = [np.load(path + f) for f in npy_files]\n",
    "\n",
    "correlation_matrices = {k: v for k, v in zip(npy_files, numpy_files)}\n",
    "stocknames = {i:ticker for i, ticker in enumerate(np.loadtxt(path + \"stocknames.txt\", dtype=str))}"
   ]
  },
  {
   "cell_type": "code",
   "execution_count": 5,
   "metadata": {},
   "outputs": [],
   "source": [
    "def calc_first_two_eigvals(correlation_matrix):\n",
    "    \"\"\"\n",
    "    Calculates the first two eigenvalues of a correlation matrix\n",
    "    :param correlation_matrix: The correlation matrix\n",
    "    :return: The first two eigenvalues\n",
    "    \"\"\"\n",
    "    eigenvalues, _ = np.linalg.eig(correlation_matrix)\n",
    "    return eigenvalues[0], eigenvalues[1]"
   ]
  },
  {
   "cell_type": "code",
   "execution_count": 6,
   "metadata": {},
   "outputs": [
    {
     "name": "stdout",
     "output_type": "stream",
     "text": [
      "first eigenvalue of cormat_1h.npy is 31.027835738491515\n",
      "second eigenvalue of cormat_1h.npy is 6.11462817996359\n",
      "first eigenvalue of cormat_1m.npy is 30.15967998949909\n",
      "second eigenvalue of cormat_1m.npy is 3.064418558871989\n",
      "first eigenvalue of cormat_gaussian_1h.npy is 2.2312393897967744\n",
      "second eigenvalue of cormat_gaussian_1h.npy is 2.13516468614258\n",
      "first eigenvalue of cormat_gaussian_1m.npy is 1.143542012222033\n",
      "second eigenvalue of cormat_gaussian_1m.npy is 0.8693971572232587\n",
      "first eigenvalue of cormat_onefactor_1h.npy is 22.518565425931232\n",
      "second eigenvalue of cormat_onefactor_1h.npy is 1.7720182491336811\n",
      "first eigenvalue of cormat_onefactor_1m.npy is 21.318227400071393\n",
      "second eigenvalue of cormat_onefactor_1m.npy is 0.5196141002460726\n"
     ]
    }
   ],
   "source": [
    "for k, v in correlation_matrices.items():\n",
    "    first, second = calc_first_two_eigvals(v)\n",
    "    print(\"first eigenvalue of \" + k + \" is \" + str(first))\n",
    "    print(\"second eigenvalue of \" + k + \" is \" + str(second))\n"
   ]
  },
  {
   "cell_type": "code",
   "execution_count": 18,
   "metadata": {},
   "outputs": [
    {
     "name": "stdout",
     "output_type": "stream",
     "text": [
      "Degree distribution for cormat_1h.npy: {0: 3, 1: 1, 2: 1, 3: 2, 4: 1, 5: 1, 6: 1, 7: 1, 8: 1, 9: 1, 10: 1, 11: 1, 12: 11, 13: 13, 14: 1, 15: 1, 16: 1, 17: 1, 18: 1, 19: 5, 20: 1, 21: 1, 22: 1, 23: 2, 24: 1, 25: 2, 26: 1, 27: 1, 28: 1, 29: 1, 30: 1, 31: 11, 32: 3, 33: 1, 34: 15, 35: 4, 36: 1, 37: 1, 38: 1, 39: 1, 40: 1, 41: 1, 42: 1, 43: 2, 44: 1, 45: 1, 46: 1, 47: 1, 48: 1, 49: 1, 50: 1, 51: 1, 52: 1, 53: 1, 54: 1, 55: 1, 56: 1, 57: 1, 58: 1, 59: 3, 60: 1, 61: 1, 62: 1, 63: 1, 64: 3, 65: 3, 66: 1, 67: 2, 68: 1, 69: 1, 70: 1, 71: 1, 72: 3, 73: 1, 74: 1, 75: 1, 76: 1, 77: 6, 78: 1, 79: 1, 80: 1, 81: 1, 82: 17, 83: 5, 84: 1, 85: 1, 86: 1, 87: 1, 88: 1, 89: 1, 90: 1, 91: 1, 92: 1, 93: 1, 94: 1, 95: 1, 96: 1}\n",
      "5 stocks with highest degree for cormat_1h.npy: ['SO', 'EXC', 'BAX', 'BAC', 'EBAY']\n",
      "Degree distribution for cormat_1m.npy: {0: 1, 1: 5, 2: 1, 3: 1, 4: 1, 5: 1, 6: 1, 7: 2, 8: 1, 9: 2, 10: 1, 11: 2, 12: 2, 13: 1, 14: 1, 15: 1, 16: 1, 17: 1, 18: 1, 19: 1, 20: 1, 21: 1, 22: 1, 23: 1, 24: 1, 25: 1, 26: 1, 27: 1, 28: 1, 29: 1, 30: 1, 31: 14, 32: 1, 33: 1, 34: 8, 35: 4, 36: 1, 37: 1, 38: 1, 39: 1, 40: 1, 41: 1, 42: 2, 43: 18, 44: 1, 45: 1, 46: 1, 47: 2, 48: 1, 49: 1, 50: 1, 51: 1, 52: 1, 53: 1, 54: 2, 55: 1, 56: 1, 57: 1, 58: 1, 59: 19, 60: 1, 61: 1, 62: 1, 63: 17, 64: 1, 65: 1, 66: 1, 67: 1, 68: 1, 69: 1, 70: 1, 71: 1, 72: 8, 73: 1, 74: 1, 75: 2, 76: 1, 77: 2, 78: 1, 79: 1, 80: 1, 81: 1, 82: 1, 83: 1, 84: 1, 85: 1, 86: 1, 87: 1, 88: 1, 89: 1, 90: 1, 91: 1, 92: 1, 93: 1, 94: 2, 95: 1, 96: 1}\n",
      "5 stocks with highest degree for cormat_1m.npy: ['MCD', 'GM', 'MMM', 'EBAY', 'EXC']\n",
      "Degree distribution for cormat_gaussian_1h.npy: {0: 2, 1: 1, 2: 1, 3: 2, 4: 3, 5: 2, 6: 3, 7: 3, 8: 1, 9: 1, 10: 1, 11: 3, 12: 3, 13: 3, 14: 2, 15: 3, 16: 3, 17: 2, 18: 2, 19: 2, 20: 1, 21: 2, 22: 1, 23: 2, 24: 1, 25: 2, 26: 3, 27: 1, 28: 3, 29: 3, 30: 1, 31: 2, 32: 2, 33: 1, 34: 1, 35: 1, 36: 1, 37: 1, 38: 2, 39: 4, 40: 1, 41: 1, 42: 4, 43: 1, 44: 1, 45: 1, 46: 3, 47: 1, 48: 1, 49: 1, 50: 1, 51: 4, 52: 2, 53: 3, 54: 1, 55: 2, 56: 3, 57: 1, 58: 3, 59: 4, 60: 2, 61: 1, 62: 1, 63: 2, 64: 1, 65: 4, 66: 1, 67: 4, 68: 4, 69: 2, 70: 2, 71: 2, 72: 1, 73: 1, 74: 3, 75: 1, 76: 5, 77: 1, 78: 3, 79: 1, 80: 1, 81: 3, 82: 2, 83: 1, 84: 2, 85: 1, 86: 5, 87: 2, 88: 4, 89: 2, 90: 1, 91: 2, 92: 2, 93: 1, 94: 2, 95: 1, 96: 1}\n",
      "5 stocks with highest degree for cormat_gaussian_1h.npy: ['PG', 'TWX', 'FOXA', 'GILD', 'INTC']\n",
      "Degree distribution for cormat_gaussian_1m.npy: {0: 2, 1: 1, 2: 2, 3: 1, 4: 2, 5: 2, 6: 1, 7: 4, 8: 3, 9: 3, 10: 2, 11: 1, 12: 2, 13: 2, 14: 1, 15: 3, 16: 1, 17: 2, 18: 1, 19: 2, 20: 2, 21: 3, 22: 2, 23: 1, 24: 1, 25: 2, 26: 1, 27: 5, 28: 1, 29: 1, 30: 3, 31: 1, 32: 2, 33: 4, 34: 2, 35: 3, 36: 2, 37: 2, 38: 1, 39: 2, 40: 1, 41: 4, 42: 1, 43: 3, 44: 2, 45: 2, 46: 1, 47: 2, 48: 2, 49: 1, 50: 4, 51: 3, 52: 5, 53: 2, 54: 1, 55: 2, 56: 2, 57: 1, 58: 1, 59: 2, 60: 2, 61: 1, 62: 2, 63: 1, 64: 1, 65: 1, 66: 2, 67: 1, 68: 1, 69: 3, 70: 1, 71: 1, 72: 1, 73: 1, 74: 2, 75: 1, 76: 2, 77: 2, 78: 1, 79: 1, 80: 1, 81: 2, 82: 2, 83: 1, 84: 2, 85: 5, 86: 3, 87: 5, 88: 3, 89: 1, 90: 2, 91: 4, 92: 5, 93: 3, 94: 2, 95: 1, 96: 1}\n",
      "5 stocks with highest degree for cormat_gaussian_1m.npy: ['DD', 'JNJ', 'TGT', 'TXN', 'UTX']\n",
      "Degree distribution for cormat_onefactor_1h.npy: {0: 2, 1: 1, 2: 1, 3: 1, 4: 1, 5: 1, 6: 1, 7: 1, 8: 1, 9: 1, 10: 1, 11: 1, 12: 1, 13: 13, 14: 1, 15: 1, 16: 1, 17: 1, 18: 1, 19: 1, 20: 1, 21: 1, 22: 1, 23: 1, 24: 1, 25: 1, 26: 2, 27: 1, 28: 1, 29: 1, 30: 1, 31: 6, 32: 1, 33: 1, 34: 1, 35: 3, 36: 1, 37: 1, 38: 2, 39: 1, 40: 1, 41: 1, 42: 1, 43: 1, 44: 1, 45: 1, 46: 1, 47: 1, 48: 1, 49: 1, 50: 5, 51: 1, 52: 1, 53: 1, 54: 4, 55: 1, 56: 1, 57: 1, 58: 5, 59: 3, 60: 1, 61: 1, 62: 1, 63: 1, 64: 1, 65: 1, 66: 1, 67: 1, 68: 1, 69: 4, 70: 1, 71: 1, 72: 1, 73: 1, 74: 1, 75: 1, 76: 1, 77: 39, 78: 1, 79: 1, 80: 1, 81: 1, 82: 1, 83: 1, 84: 2, 85: 1, 86: 1, 87: 1, 88: 1, 89: 1, 90: 1, 91: 1, 92: 1, 93: 1, 94: 1, 95: 19, 96: 1}\n",
      "5 stocks with highest degree for cormat_onefactor_1h.npy: ['PM', 'WMT', 'BAX', 'EBAY', 'IBM']\n",
      "Degree distribution for cormat_onefactor_1m.npy: {0: 1, 1: 1, 2: 1, 3: 1, 4: 1, 5: 1, 6: 1, 7: 1, 8: 1, 9: 1, 10: 1, 11: 1, 12: 1, 13: 1, 14: 1, 15: 1, 16: 1, 17: 1, 18: 1, 19: 1, 20: 1, 21: 1, 22: 1, 23: 1, 24: 1, 25: 1, 26: 1, 27: 1, 28: 1, 29: 1, 30: 1, 31: 1, 32: 1, 33: 1, 34: 1, 35: 94, 36: 1, 37: 1, 38: 1, 39: 1, 40: 1, 41: 1, 42: 1, 43: 1, 44: 1, 45: 1, 46: 1, 47: 1, 48: 1, 49: 1, 50: 1, 51: 1, 52: 1, 53: 1, 54: 1, 55: 1, 56: 1, 57: 1, 58: 3, 59: 1, 60: 1, 61: 1, 62: 1, 63: 1, 64: 1, 65: 1, 66: 1, 67: 1, 68: 1, 69: 1, 70: 1, 71: 1, 72: 1, 73: 1, 74: 1, 75: 1, 76: 1, 77: 1, 78: 1, 79: 1, 80: 1, 81: 1, 82: 1, 83: 1, 84: 1, 85: 1, 86: 1, 87: 1, 88: 1, 89: 1, 90: 1, 91: 1, 92: 1, 93: 1, 94: 1, 95: 1, 96: 1}\n",
      "5 stocks with highest degree for cormat_onefactor_1m.npy: ['F', 'MA', 'AAPL', 'ABBV', 'ABT']\n"
     ]
    }
   ],
   "source": [
    "def analyze_mst(graph):\n",
    "    mst = nx.minimum_spanning_tree(graph)\n",
    "\n",
    "    # Compute degree distribution\n",
    "    degree_distribution = dict(nx.degree(mst))\n",
    "\n",
    "    # Identify top 5 stocks with highest degree\n",
    "    top_5_stocks = sorted(degree_distribution.items(), key=lambda x: x[1], reverse=True)[:5]\n",
    "\n",
    "    return degree_distribution, top_5_stocks\n",
    "\n",
    "for k, v in correlation_matrices.items():\n",
    "    # Create a graph from the correlation matrix\n",
    "    graph = nx.from_numpy_matrix(v)\n",
    "    nx.set_node_attributes(graph, values=stocknames, name='ticker')\n",
    "\n",
    "    # Analyze the MST\n",
    "    degree_distribution, top_5_stocks = analyze_mst(graph)\n",
    "\n",
    "    # Print or use the results as needed\n",
    "    print(\"Degree distribution for \" + k + \":\", degree_distribution)\n",
    "    # print(\"Top 5 stocks for \" + k + \":\", top_5_stocks)\n",
    "    print(\"5 stocks with highest degree for \" + k + \":\", [graph.nodes[stock[0]]['ticker'] for stock in top_5_stocks])"
   ]
  }
 ],
 "metadata": {
  "kernelspec": {
   "display_name": "network_science",
   "language": "python",
   "name": "python3"
  },
  "language_info": {
   "codemirror_mode": {
    "name": "ipython",
    "version": 3
   },
   "file_extension": ".py",
   "mimetype": "text/x-python",
   "name": "python",
   "nbconvert_exporter": "python",
   "pygments_lexer": "ipython3",
   "version": "3.7.16"
  }
 },
 "nbformat": 4,
 "nbformat_minor": 2
}
