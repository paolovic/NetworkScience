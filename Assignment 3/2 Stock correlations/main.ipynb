{
 "cells": [
  {
   "cell_type": "code",
   "execution_count": 1,
   "metadata": {},
   "outputs": [],
   "source": [
    "import networkx as nx\n",
    "import matplotlib.pyplot as plt\n",
    "from os import listdir\n",
    "from os.path import isfile, join\n",
    "import NEMtropy as nem\n",
    "import numpy as np"
   ]
  },
  {
   "cell_type": "code",
   "execution_count": 2,
   "metadata": {},
   "outputs": [],
   "source": [
    "# Load the datasets from the assignment_1_data folder\n",
    "path = \"NYSE/\"\n",
    "npy_files = [f for f in listdir(path) if isfile(join(path, f)) and f.endswith(\".npy\")]\n",
    "numpy_files = [np.load(path + f) for f in npy_files]\n",
    "\n",
    "correlation_matrices = {k: v for k, v in zip(npy_files, numpy_files)}\n",
    "stocknames = [np.loadtxt(path + \"stocknames.txt\", dtype=str)]"
   ]
  }
 ],
 "metadata": {
  "kernelspec": {
   "display_name": "network_science",
   "language": "python",
   "name": "python3"
  },
  "language_info": {
   "codemirror_mode": {
    "name": "ipython",
    "version": 3
   },
   "file_extension": ".py",
   "mimetype": "text/x-python",
   "name": "python",
   "nbconvert_exporter": "python",
   "pygments_lexer": "ipython3",
   "version": "3.7.16"
  }
 },
 "nbformat": 4,
 "nbformat_minor": 2
}
